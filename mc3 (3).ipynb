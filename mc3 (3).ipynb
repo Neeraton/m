{
 "cells": [
  {
   "cell_type": "code",
   "execution_count": 2,
   "id": "68138557-d956-4786-a067-3b189b7284b7",
   "metadata": {},
   "outputs": [],
   "source": [
    "import math\n",
    "import numpy as np\n",
    "import matplotlib.pyplot as plt"
   ]
  },
  {
   "cell_type": "code",
   "execution_count": 39,
   "id": "ebb89fea-13e3-48b8-95c6-e91371453d93",
   "metadata": {},
   "outputs": [],
   "source": [
    "Ta=1300\n",
    "r=4\n",
    "N=4\n",
    "offered_traffic=3/100\n",
    "Tbw=40e6\n",
    "Cbw=60e3"
   ]
  },
  {
   "cell_type": "code",
   "execution_count": 40,
   "id": "69466cc3-0b65-4a77-8103-7c118d8fb8bc",
   "metadata": {},
   "outputs": [
    {
     "name": "stdout",
     "output_type": "stream",
     "text": [
      "Area of one cell 40.96\n",
      "no_of_cell =  31.73828125\n"
     ]
    }
   ],
   "source": [
    "def no_of_cell(Ta,r):\n",
    "\n",
    "  Ac=2.56*r**2  \n",
    "  print('Area of one cell',Ac)\n",
    "  no_of_cell = Ta/Ac    #number_of_cells = total_area / cell_area\n",
    "  return no_of_cell\n",
    "    \n",
    "print(\"no_of_cell = \",no_of_cell(1300,4))"
   ]
  },
  {
   "cell_type": "code",
   "execution_count": 49,
   "id": "444e4588-c2ee-40e6-b094-3b405449cee0",
   "metadata": {},
   "outputs": [
    {
     "name": "stdout",
     "output_type": "stream",
     "text": [
      "Total Channel 666.6666666666666\n",
      "no_of_channel_per_cell 166.66666666666666\n"
     ]
    }
   ],
   "source": [
    "def no_of_channel(Tbw,Cbw):\n",
    "    Total_channel=Tbw/Cbw\n",
    "    print(\"Total Channel\",Total_channel)\n",
    "    no_of_channel=Total_channel/4\n",
    "    return no_of_channel\n",
    "\n",
    "print('no_of_channel_per_cell',no_of_channel(Tbw,Cbw))"
   ]
  },
  {
   "cell_type": "code",
   "execution_count": 50,
   "id": "79d2c8a3-85be-47ea-b3a8-d5cd2504de11",
   "metadata": {},
   "outputs": [
    {
     "name": "stdout",
     "output_type": "stream",
     "text": [
      "Traffic intensity: 2.85\n"
     ]
    }
   ],
   "source": [
    "def traffic_intensity(no_of_channel, offered_traffic):\n",
    "    traffic_intensity = (no_of_channel)*(offered_traffic)\n",
    "    return traffic_intensity\n",
    "\n",
    "print(\"Traffic intensity:\", traffic_intensity(95, offered_traffic))\n"
   ]
  },
  {
   "cell_type": "code",
   "execution_count": 51,
   "id": "a680d22e-e139-4dc4-b5c4-112fa312287a",
   "metadata": {},
   "outputs": [
    {
     "name": "stdout",
     "output_type": "stream",
     "text": [
      "Max Traffic 2666.16\n"
     ]
    }
   ],
   "source": [
    "def max_traffic(y):\n",
    "    max_traffic=y*84\n",
    "    return max_traffic\n",
    "print(\"Max Traffic\",max_traffic(31.74))"
   ]
  },
  {
   "cell_type": "code",
   "execution_count": 52,
   "id": "a34a9bac-1655-4a5f-9701-076a5fddd56d",
   "metadata": {},
   "outputs": [
    {
     "name": "stdout",
     "output_type": "stream",
     "text": [
      "Total users 88866.66666666667\n"
     ]
    }
   ],
   "source": [
    "def total_user(max_traffic,offered_traffic):\n",
    "    \n",
    "    user=max_traffic/offered_traffic\n",
    "    return user\n",
    "print(\"Total users\",total_user(2666, offered_traffic))"
   ]
  },
  {
   "cell_type": "code",
   "execution_count": 46,
   "id": "9b121643-7c26-46a5-9791-ae305c4b12f3",
   "metadata": {},
   "outputs": [
    {
     "name": "stdout",
     "output_type": "stream",
     "text": [
      "mobile_per_unique_channel 2799.8319785759295\n"
     ]
    }
   ],
   "source": [
    "def f(total_user,num_cell):\n",
    "    mobile_per_unique_channel=total_user/num_cell\n",
    "    return mobile_per_unique_channel\n",
    "print(\"mobile_per_unique_channel\",f(88866.667,31.74))"
   ]
  },
  {
   "cell_type": "code",
   "execution_count": 47,
   "id": "70765358-d965-414d-9eb2-922f314730c9",
   "metadata": {},
   "outputs": [
    {
     "name": "stdout",
     "output_type": "stream",
     "text": [
      "Max user 3015.2999999999997\n"
     ]
    }
   ],
   "source": [
    "def max_user(no_of_cell,no_of_channel):\n",
    "    r=no_of_cell*no_of_channel\n",
    "    return r\n",
    "\n",
    "print(\"Max user\",max_user(31.74,95))"
   ]
  },
  {
   "cell_type": "code",
   "execution_count": null,
   "id": "9182dc4e-0fa9-4306-b623-b565738d11ef",
   "metadata": {},
   "outputs": [],
   "source": []
  },
  {
   "cell_type": "code",
   "execution_count": null,
   "id": "5d1fb0c1-7299-4e73-9272-c6c8f04e3f99",
   "metadata": {},
   "outputs": [],
   "source": []
  }
 ],
 "metadata": {
  "kernelspec": {
   "display_name": "Python 3 (ipykernel)",
   "language": "python",
   "name": "python3"
  },
  "language_info": {
   "codemirror_mode": {
    "name": "ipython",
    "version": 3
   },
   "file_extension": ".py",
   "mimetype": "text/x-python",
   "name": "python",
   "nbconvert_exporter": "python",
   "pygments_lexer": "ipython3",
   "version": "3.12.7"
  }
 },
 "nbformat": 4,
 "nbformat_minor": 5
}
