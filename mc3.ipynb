{
 "cells": [
  {
   "cell_type": "code",
   "execution_count": 1,
   "id": "68138557-d956-4786-a067-3b189b7284b7",
   "metadata": {},
   "outputs": [],
   "source": [
    "import math\n",
    "import numpy as np\n",
    "import matplotlib.pyplot as plt"
   ]
  },
  {
   "cell_type": "code",
   "execution_count": 2,
   "id": "69466cc3-0b65-4a77-8103-7c118d8fb8bc",
   "metadata": {},
   "outputs": [
    {
     "name": "stdout",
     "output_type": "stream",
     "text": [
      "no_of_cell =  31.74\n"
     ]
    }
   ],
   "source": [
    "def no_of_cell(Ta,r):\n",
    "\n",
    "  Ac=2.56*r**2   #Area of one cell\n",
    "  no_of_cell = Ta/Ac    #number_of_cells = total_area / cell_area\n",
    "  return no_of_cell\n",
    "\n",
    "result=no_of_cell(1300,4)\n",
    "print(\"no_of_cell = \",np.round(result, 2))"
   ]
  },
  {
   "cell_type": "code",
   "execution_count": 3,
   "id": "46fa0ca8-047e-4102-9eec-3f16b1132e63",
   "metadata": {},
   "outputs": [
    {
     "name": "stdout",
     "output_type": "stream",
     "text": [
      "no_of_chaneel_per_cluster 666.67\n",
      "no_of_channel_per_cell 166.67\n"
     ]
    }
   ],
   "source": [
    "def no_of_channel_per_cluster(T_BW,C_BW):\n",
    "\n",
    "  #total_channels = spectrum_allocation / channel_bandwidth\n",
    "\n",
    "  no_of_channel_per_cluster = T_BW/C_BW\n",
    "  return no_of_channel_per_cluster\n",
    "\n",
    "result=no_of_channel_per_cluster(40000000,60000)\n",
    "print(\"no_of_chaneel_per_cluster\",np.round(result, 2))\n",
    "\n",
    "no_of_channel_per_cell= result/4   #channels_per_cell = total_channels / reuse_factor\n",
    "print(\"no_of_channel_per_cell\",np.round(no_of_channel_per_cell, 2))"
   ]
  },
  {
   "cell_type": "code",
   "execution_count": 4,
   "id": "1dc715b8-b4cf-4667-a2a5-b1ccadc00a2f",
   "metadata": {},
   "outputs": [
    {
     "name": "stdout",
     "output_type": "stream",
     "text": [
      "main_carried_traffic 2666.16\n"
     ]
    }
   ],
   "source": [
    "def main_carried_traffic(y):\n",
    "\n",
    "  main_carried_traffic=y*84\n",
    "  return main_carried_traffic\n",
    "\n",
    "result=main_carried_traffic(31.74)\n",
    "print(\"main_carried_traffic\",result)"
   ]
  },
  {
   "cell_type": "code",
   "execution_count": 5,
   "id": "014cc338-1705-4aba-ac4a-64d8afd2b3b8",
   "metadata": {},
   "outputs": [
    {
     "name": "stdout",
     "output_type": "stream",
     "text": [
      "Users 88872.0\n"
     ]
    }
   ],
   "source": [
    "#max_theoretical_users = total_channels * traffic_per_user\n",
    "y=31.74\n",
    "Users=result/0.03\n",
    "print(\"Users\",Users)"
   ]
  },
  {
   "cell_type": "code",
   "execution_count": 6,
   "id": "3498bc03-dc36-4d1e-adb3-2e9baae16782",
   "metadata": {},
   "outputs": [
    {
     "name": "stdout",
     "output_type": "stream",
     "text": [
      "mobile_per_unitChannel 533.23\n"
     ]
    }
   ],
   "source": [
    "def mobile_per_unitChannel(T_user,no_of_channel_per_cluster):\n",
    "\n",
    "  mobile_per_unitChannel = T_user/no_of_channel_per_cluster\n",
    "  return mobile_per_unitChannel\n",
    "\n",
    "result=mobile_per_unitChannel(Users,no_of_channel_per_cell)\n",
    "print(\"mobile_per_unitChannel\",np.round(result,2))"
   ]
  },
  {
   "cell_type": "code",
   "execution_count": 7,
   "id": "614de12f-a8ba-483b-99eb-c40e22f4a594",
   "metadata": {},
   "outputs": [
    {
     "name": "stdout",
     "output_type": "stream",
     "text": [
      "max_user 5290.0\n"
     ]
    }
   ],
   "source": [
    "def max_user(no_of_cell,no_of_channel_per_cell):\n",
    "\n",
    "  max_user = no_of_cell*no_of_channel_per_cell\n",
    "  return max_user\n",
    "\n",
    "result=max_user(y,no_of_channel_per_cell)\n",
    "print(\"max_user\",np.round(result,2))"
   ]
  },
  {
   "cell_type": "code",
   "execution_count": 8,
   "id": "d91af5e5-b65c-441c-a226-9f83d32acc06",
   "metadata": {},
   "outputs": [
    {
     "ename": "NameError",
     "evalue": "name 'n5' is not defined",
     "output_type": "error",
     "traceback": [
      "\u001b[1;31m---------------------------------------------------------------------------\u001b[0m",
      "\u001b[1;31mNameError\u001b[0m                                 Traceback (most recent call last)",
      "Cell \u001b[1;32mIn[8], line 14\u001b[0m\n\u001b[0;32m     10\u001b[0m                 result\u001b[38;5;241m=\u001b[39mmax_user(y,no_of_channel_per_cell)\n\u001b[0;32m     11\u001b[0m                 n2\u001b[38;5;241m.\u001b[39mappend(result)\n\u001b[1;32m---> 14\u001b[0m \u001b[38;5;28mprint\u001b[39m(\u001b[38;5;124m\"\u001b[39m\u001b[38;5;124mUnique N values:\u001b[39m\u001b[38;5;124m\"\u001b[39m, \u001b[43mn5\u001b[49m)\n\u001b[0;32m     15\u001b[0m \u001b[38;5;28mprint\u001b[39m(\u001b[38;5;124m\"\u001b[39m\u001b[38;5;124mCorresponding max users:\u001b[39m\u001b[38;5;124m\"\u001b[39m, n6)\n",
      "\u001b[1;31mNameError\u001b[0m: name 'n5' is not defined"
     ]
    }
   ],
   "source": [
    "n1=[]\n",
    "n2=[]\n",
    "ns=[3,4,7,9,12,13,19,21,27]\n",
    "for i in range(1, 5):\n",
    "        for j in range(1, 5):\n",
    "            N = i**2 + j**2 + i*j\n",
    "            if N in ns:\n",
    "                x = N\n",
    "                n1.append(x)\n",
    "                result=max_user(y,no_of_channel_per_cell)\n",
    "                n2.append(result)\n",
    "\n",
    "\n",
    "print(\"Unique N values:\", n)\n",
    "print(\"Corresponding max users:\", n6)"
   ]
  },
  {
   "cell_type": "code",
   "execution_count": null,
   "id": "444e4588-c2ee-40e6-b094-3b405449cee0",
   "metadata": {},
   "outputs": [],
   "source": []
  }
 ],
 "metadata": {
  "kernelspec": {
   "display_name": "Python 3 (ipykernel)",
   "language": "python",
   "name": "python3"
  },
  "language_info": {
   "codemirror_mode": {
    "name": "ipython",
    "version": 3
   },
   "file_extension": ".py",
   "mimetype": "text/x-python",
   "name": "python",
   "nbconvert_exporter": "python",
   "pygments_lexer": "ipython3",
   "version": "3.12.7"
  }
 },
 "nbformat": 4,
 "nbformat_minor": 5
}
