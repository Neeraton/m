{
 "cells": [
  {
   "cell_type": "code",
   "execution_count": 7,
   "id": "065f5c2d-9095-478e-862c-da6e316dd657",
   "metadata": {},
   "outputs": [],
   "source": [
    "import numpy as np\n",
    "import matplotlib.pyplot as plt"
   ]
  },
  {
   "cell_type": "code",
   "execution_count": 9,
   "id": "6dba19af-c215-477d-986c-4a34849117a0",
   "metadata": {},
   "outputs": [],
   "source": [
    "num_subcarriers = 64      \n",
    "num_symbols = 15         \n",
    "cp_len = 4               \n",
    "mod_order = 4 "
   ]
  },
  {
   "cell_type": "code",
   "execution_count": 10,
   "id": "308647cb-d1cc-4300-aa9f-d733e02dde0f",
   "metadata": {},
   "outputs": [],
   "source": [
    "data = np.random.randint(0, mod_order, size=(num_symbols,\n",
    "num_subcarriers))\n",
    "qam_symbols = np.exp(1j * 2 * np.pi * data / mod_order)"
   ]
  },
  {
   "cell_type": "code",
   "execution_count": 11,
   "id": "c1deca10-486e-4f66-bb0f-c2d082e71711",
   "metadata": {},
   "outputs": [],
   "source": [
    "ifft_output = np.fft.ifft(qam_symbols, axis=1)"
   ]
  },
  {
   "cell_type": "code",
   "execution_count": 12,
   "id": "213b28b2-9c6e-46e5-b903-311e4b5ae15b",
   "metadata": {},
   "outputs": [],
   "source": [
    "cyclic_prefix = ifft_output[:, -cp_len:]\n",
    "ofdm_symbols_with_cp = np.hstack([cyclic_prefix, ifft_output])\n",
    "\n",
    "# Flatten into a 1D signal for transmission\n",
    "ofdm_signal = ofdm_symbols_with_cp.flatten()"
   ]
  },
  {
   "cell_type": "code",
   "execution_count": 13,
   "id": "e4361937-7d54-4cb5-a80f-a7e735bde7f2",
   "metadata": {},
   "outputs": [
    {
     "ename": "SyntaxError",
     "evalue": "invalid syntax (1587001167.py, line 2)",
     "output_type": "error",
     "traceback": [
      "\u001b[1;36m  Cell \u001b[1;32mIn[13], line 2\u001b[1;36m\u001b[0m\n\u001b[1;33m    plt.plot(np.real(ofdm_signal), label=&#39;Real Part&#39;)\u001b[0m\n\u001b[1;37m                                         ^\u001b[0m\n\u001b[1;31mSyntaxError\u001b[0m\u001b[1;31m:\u001b[0m invalid syntax\n"
     ]
    }
   ],
   "source": [
    "plt.figure(figsize=(10, 6))\n",
    "plt.plot(np.real(ofdm_signal), label=&#39;Real Part&#39;)\n",
    "plt.plot(np.imag(ofdm_signal), label=&#39;Imaginary Part&#39;)\n",
    "plt.title(&#39;OFDM Signal (Time Domain)&#39;)\n",
    "plt.xlabel(&#39;Sample Index&#39;)\n",
    "plt.ylabel(&#39;Amplitude&#39;)\n",
    "plt.legend()\n",
    "plt.grid()\n",
    "plt.show()"
   ]
  },
  {
   "cell_type": "code",
   "execution_count": null,
   "id": "b98b9f49-f106-4c4b-a06f-43c1e387162d",
   "metadata": {},
   "outputs": [],
   "source": []
  }
 ],
 "metadata": {
  "kernelspec": {
   "display_name": "Python 3 (ipykernel)",
   "language": "python",
   "name": "python3"
  },
  "language_info": {
   "codemirror_mode": {
    "name": "ipython",
    "version": 3
   },
   "file_extension": ".py",
   "mimetype": "text/x-python",
   "name": "python",
   "nbconvert_exporter": "python",
   "pygments_lexer": "ipython3",
   "version": "3.12.7"
  }
 },
 "nbformat": 4,
 "nbformat_minor": 5
}
